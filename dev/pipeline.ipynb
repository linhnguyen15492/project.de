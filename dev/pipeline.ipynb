{
 "cells": [
  {
   "cell_type": "code",
   "execution_count": 1,
   "id": "d1e07d7c",
   "metadata": {},
   "outputs": [],
   "source": [
    "from extraction import extractor\n",
    "import os\n",
    "import openpyxl\n",
    "import pandas as pd\n",
    "import dask.dataframe as dd"
   ]
  },
  {
   "cell_type": "code",
   "execution_count": null,
   "id": "e953a67e",
   "metadata": {},
   "outputs": [
    {
     "name": "stdout",
     "output_type": "stream",
     "text": [
      "D:\\_workspace\\_billing\\_FEE sources\\20250430_FEE_030000.xlsx\n",
      "D:\\_workspace\\_billing\\_FEE sources\\20250430_FEE_StorageBasedOnInventory_030000.xlsx\n",
      "D:\\_workspace\\_billing\\_FEE sources\\20250531_FEE_030000_AAB_ACB.xlsx\n",
      "D:\\_workspace\\_billing\\_FEE sources\\20250531_FEE_StorageBasedOnInventory_030000.xlsx\n",
      "D:\\_workspace\\_billing\\_FEE sources\\20250630_FEE_030000.xlsx\n",
      "D:\\_workspace\\_billing\\_FEE sources\\20250630_FEE_StorageBasedOnInventory.xlsx\n",
      "D:\\_workspace\\_billing\\_FEE sources\\20250731_FEE_030000.xlsx\n",
      "D:\\_workspace\\_billing\\_FEE sources\\20250731_FEE_StorageBasedOnInventory_030000.xlsx\n",
      "D:\\_workspace\\_billing\\_FEE sources\\20250831_FEE_030000.xlsx\n",
      "D:\\_workspace\\_billing\\_FEE sources\\20250831_FEE_StorageBasedOnInventory_030000.xlsx\n",
      "D:\\_workspace\\_billing\\_FEE sources\\AAD_202505.xlsx\n",
      "D:\\_workspace\\_billing\\_FEE sources\\AAD_202506.xlsx\n",
      "D:\\_workspace\\_billing\\_FEE sources\\AAD_202507.xlsx\n",
      "D:\\_workspace\\_billing\\_FEE sources\\AAD_202508.xlsx\n",
      "D:\\_workspace\\_billing\\_FEE sources\\JVM_stock.xlsx\n",
      "D:\\_workspace\\_billing\\_FEE sources\\MSN_202505.xlsx\n",
      "D:\\_workspace\\_billing\\_FEE sources\\MSN_202506.xlsx\n",
      "D:\\_workspace\\_billing\\_FEE sources\\MSN_202507.xlsx\n",
      "D:\\_workspace\\_billing\\_FEE sources\\MSN_202508.xlsx\n"
     ]
    }
   ],
   "source": [
    "folder_path = \"D:\\\\_workspace\\\\_billing\\\\_FEE sources\"\n",
    "for filename in os.listdir(folder_path):\n",
    "    filepath = os.path.join(folder_path, filename)\n",
    "    print(filepath)\n",
    "    if \"MSN\" in filename:\n",
    "        try:\n",
    "            df = pd.read_excel(filepath)\n",
    "            dask_df = dd.from_pandas(df, npartitions=4)\n",
    "            print(dask_df.head())\n",
    "        except Exception as e:\n",
    "            print(e)"
   ]
  },
  {
   "cell_type": "code",
   "execution_count": null,
   "id": "f59a69b1",
   "metadata": {},
   "outputs": [],
   "source": []
  }
 ],
 "metadata": {
  "kernelspec": {
   "display_name": "data-engineering",
   "language": "python",
   "name": "python3"
  },
  "language_info": {
   "codemirror_mode": {
    "name": "ipython",
    "version": 3
   },
   "file_extension": ".py",
   "mimetype": "text/x-python",
   "name": "python",
   "nbconvert_exporter": "python",
   "pygments_lexer": "ipython3",
   "version": "3.12.11"
  }
 },
 "nbformat": 4,
 "nbformat_minor": 5
}
